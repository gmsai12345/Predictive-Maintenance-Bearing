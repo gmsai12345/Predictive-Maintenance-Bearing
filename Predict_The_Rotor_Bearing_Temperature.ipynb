{
  "metadata": {
    "kernelspec": {
      "language": "python",
      "display_name": "Python 3",
      "name": "python3"
    },
    "language_info": {
      "pygments_lexer": "ipython3",
      "nbconvert_exporter": "python",
      "version": "3.6.4",
      "file_extension": ".py",
      "codemirror_mode": {
        "name": "ipython",
        "version": 3
      },
      "name": "python",
      "mimetype": "text/x-python"
    },
    "colab": {
      "name": "Predict The Rotor Bearing Temperature ",
      "provenance": []
    }
  },
  "nbformat_minor": 0,
  "nbformat": 4,
  "cells": [
    {
      "source": [
        "\n",
        "# IMPORTANT: RUN THIS CELL IN ORDER TO IMPORT YOUR KAGGLE DATA SOURCES\n",
        "# TO THE CORRECT LOCATION (/kaggle/input) IN YOUR NOTEBOOK,\n",
        "# THEN FEEL FREE TO DELETE THIS CELL.\n",
        "# NOTE: THIS NOTEBOOK ENVIRONMENT DIFFERS FROM KAGGLE'S PYTHON\n",
        "# ENVIRONMENT SO THERE MAY BE MISSING LIBRARIES USED BY YOUR\n",
        "# NOTEBOOK.\n",
        "\n",
        "import os\n",
        "import sys\n",
        "from tempfile import NamedTemporaryFile\n",
        "from urllib.request import urlopen\n",
        "from urllib.parse import unquote, urlparse\n",
        "from urllib.error import HTTPError\n",
        "from zipfile import ZipFile\n",
        "import tarfile\n",
        "import shutil\n",
        "\n",
        "CHUNK_SIZE = 40960\n",
        "DATA_SOURCE_MAPPING = 'renew-power-hiring-hackathon:https%3A%2F%2Fstorage.googleapis.com%2Fkaggle-data-sets%2F2434258%2F4118350%2Fbundle%2Farchive.zip%3FX-Goog-Algorithm%3DGOOG4-RSA-SHA256%26X-Goog-Credential%3Dgcp-kaggle-com%2540kaggle-161607.iam.gserviceaccount.com%252F20240413%252Fauto%252Fstorage%252Fgoog4_request%26X-Goog-Date%3D20240413T172314Z%26X-Goog-Expires%3D259200%26X-Goog-SignedHeaders%3Dhost%26X-Goog-Signature%3Dae8267c635ca6a2fb3262ce8c9f66de51dce354f115a6eacec0da54e29ce21bd5aa6ef0a0ce11b027f6600204c4ef74f7b49c18d68c52a15d0449b1c005d9e1fb38f85d30e018435728e166751a8d8e569c0073763b4e5c95decf5db683dc0f229e219edb7a2f29a8d2771732788a580ddc2b7c5ca5638f6b63f44359c74748a9cb0c3bdfd20f08a4c8d3d134bc4df5361c2ef062f3aa9fd643fccc04738fef581851e3b44e60182a8254b66c07604b73582f01c33229daf1e56365870791423b55a96b046eb1f28700902f31e3fb404a8330d18214c769c7957b8c52fadc81a1075b8bb834aa505789bb32da97745fb3d0a9101e6661fb2915b9dab79919d86'\n",
        "\n",
        "KAGGLE_INPUT_PATH='content/kaggle/input'\n",
        "KAGGLE_WORKING_PATH='content/kaggle/working'\n",
        "KAGGLE_SYMLINK='kaggle'\n",
        "\n",
        "!umount /kaggle/input/ 2> /dev/null\n",
        "shutil.rmtree('content/kaggle/input', ignore_errors=True)\n",
        "os.makedirs(KAGGLE_INPUT_PATH, 0o777, exist_ok=True)\n",
        "os.makedirs(KAGGLE_WORKING_PATH, 0o777, exist_ok=True)\n",
        "\n",
        "try:\n",
        "  os.symlink(KAGGLE_INPUT_PATH, os.path.join(\"..\", 'input'), target_is_directory=True)\n",
        "except FileExistsError:\n",
        "  pass\n",
        "try:\n",
        "  os.symlink(KAGGLE_WORKING_PATH, os.path.join(\"..\", 'working'), target_is_directory=True)\n",
        "except FileExistsError:\n",
        "  pass\n",
        "\n",
        "for data_source_mapping in DATA_SOURCE_MAPPING.split(','):\n",
        "    directory, download_url_encoded = data_source_mapping.split(':')\n",
        "    download_url = unquote(download_url_encoded)\n",
        "    filename = urlparse(download_url).path\n",
        "    destination_path = os.path.join(KAGGLE_INPUT_PATH, directory)\n",
        "    try:\n",
        "        with urlopen(download_url) as fileres, NamedTemporaryFile() as tfile:\n",
        "            total_length = fileres.headers['content-length']\n",
        "            print(f'Downloading {directory}, {total_length} bytes compressed')\n",
        "            dl = 0\n",
        "            data = fileres.read(CHUNK_SIZE)\n",
        "            while len(data) > 0:\n",
        "                dl += len(data)\n",
        "                tfile.write(data)\n",
        "                done = int(50 * dl / int(total_length))\n",
        "                sys.stdout.write(f\"\\r[{'=' * done}{' ' * (50-done)}] {dl} bytes downloaded\")\n",
        "                sys.stdout.flush()\n",
        "                data = fileres.read(CHUNK_SIZE)\n",
        "            if filename.endswith('.zip'):\n",
        "              with ZipFile(tfile) as zfile:\n",
        "                zfile.extractall(destination_path)\n",
        "            else:\n",
        "              with tarfile.open(tfile.name) as tarfile:\n",
        "                tarfile.extractall(destination_path)\n",
        "            print(f'\\nDownloaded and uncompressed: {directory}')\n",
        "    except HTTPError as e:\n",
        "        print(f'Failed to load (likely expired) {download_url} to path {destination_path}')\n",
        "        continue\n",
        "    except OSError as e:\n",
        "        print(f'Failed to load {download_url} to path {destination_path}')\n",
        "        continue\n",
        "\n",
        "print('Data source import complete.')\n"
      ],
      "metadata": {
        "id": "E18Na24jfCMC"
      },
      "cell_type": "code",
      "outputs": [],
      "execution_count": null
    },
    {
      "cell_type": "markdown",
      "source": [
        "![Add a heading (1).jpg](attachment:bcaaf972-a5b8-4c23-a9fd-f1f3e71d173e.jpg)"
      ],
      "metadata": {
        "id": "J92mYz8BfCMF"
      }
    },
    {
      "cell_type": "markdown",
      "source": [
        "## <h2 style=\"background-color:#4E944F;font-family:verdana;color:white;font-size:200%;text-align:center;letter-spacing:0.5px;padding: 10px\"> INTRODUCTION </h2>"
      ],
      "metadata": {
        "id": "6wZapATifCMG"
      }
    },
    {
      "cell_type": "markdown",
      "source": [
        "<div style=\"color:white;\n",
        "           display:fill;\n",
        "           background-color:#4E944F;\n",
        "           padding: 10px;\n",
        "           font-family:Verdana;\n",
        "           letter-spacing:0.5px\">\n",
        "    <h3 style=\"color:white;padding-left:20px\"><b>Problem Statement 🧠</b></h3>\n",
        "       <p style=\"color:white;font-size:110%;padding-left:50px\">\n",
        "           1. Unplanned downtime of wind turbines can result in a significant loss of revenue and energy and can easily scale to millions of dollars a year. <br>\n",
        "           2. It is therefore pivotal that flagging of the failure of components is made to prevent further loss and perform maintenance. <br>\n",
        "           3. It, however, involves replacement of components and higher costs.\n",
        " <br>\n",
        "           4. The company has shared minute-wise normalised data of wind speed, power and temperature data for multiple components of a wind turbine.  <br>\n",
        "           5. The company is looking to create a model to get an ideally functioning turbine’s expected rotor bearing temperature. It will then use the model to check the deviation of the actual rotor bearing temperature of the faulty turbine from the expected temperature.\n",
        "        </p>\n",
        "    </div>\n",
        "    \n",
        "<div class=\"alert alert-info\" style=\"font-size:14px; font-family:verdana; line-height: 1.7em;\">\n",
        "    📌 &nbsp;It is to be noted that the DATA is not a time series-based prediction, as data is divided randomly.\n",
        "</div>"
      ],
      "metadata": {
        "id": "4HXBhh2cfCMH"
      }
    },
    {
      "cell_type": "markdown",
      "source": [
        "## <p style='color:white;font-size:1%;'>Import Libraries & Dataset</p>\n",
        "## <h2 style=\"background-color:#4E944F;font-family:verdana;color:white;font-size:200%;text-align:center;letter-spacing:0.5px;padding: 10px\"> IMPORTING LIBRARIES & DATASETS </h2>"
      ],
      "metadata": {
        "id": "cO2aE614fCMH"
      }
    },
    {
      "cell_type": "code",
      "source": [
        "!pip install --pre pycaret --q\n",
        "!pip install optuna --q\n",
        "!pip install flaml --q"
      ],
      "metadata": {
        "execution": {
          "iopub.status.busy": "2022-09-09T19:17:06.389319Z",
          "iopub.execute_input": "2022-09-09T19:17:06.389877Z",
          "iopub.status.idle": "2022-09-09T19:17:43.661115Z",
          "shell.execute_reply.started": "2022-09-09T19:17:06.389832Z",
          "shell.execute_reply": "2022-09-09T19:17:43.659686Z"
        },
        "trusted": true,
        "id": "d4cuIErsfCMI"
      },
      "execution_count": null,
      "outputs": []
    },
    {
      "cell_type": "code",
      "source": [
        "import pandas as pd # Python library for data analysis and data frame\n",
        "import numpy as np # Numerical Python library for linear algebra and computations\n",
        "pd.set_option('display.max_columns', None) # code to display all columns\n",
        "\n",
        "# Visualisation libraries\n",
        "import matplotlib.pyplot as plt\n",
        "import seaborn as sns\n",
        "%matplotlib inline\n",
        "\n",
        "# Findout best performing models\n",
        "from pycaret.regression import *\n",
        "\n",
        "# all the required models\n",
        "from sklearn.ensemble import RandomForestRegressor, ExtraTreesRegressor, StackingRegressor\n",
        "from catboost import CatBoostRegressor\n",
        "from lightgbm import LGBMRegressor\n",
        "from xgboost import XGBRegressor\n",
        "from sklearn.linear_model import SGDRegressor\n",
        "\n",
        "# for evaluation\n",
        "from sklearn.metrics import mean_absolute_percentage_error, mean_absolute_error\n",
        "from sklearn.model_selection import cross_val_score\n",
        "\n",
        "# for hyperparameter tuning\n",
        "import optuna\n",
        "\n",
        "#auto ml\n",
        "from flaml import AutoML\n",
        "\n",
        "# to save the trained model\n",
        "import pickle\n",
        "\n",
        "import warnings\n",
        "warnings.filterwarnings(\"ignore\") # To prevent kernel from showing any warning\n",
        "\n",
        "# set the color palette\n",
        "palette = sns.color_palette([\"#E9EFC0\",'#B4E197','#83BD75','#4E944F'])\n",
        "sns.palplot(palette) # print color palette"
      ],
      "metadata": {
        "execution": {
          "iopub.status.busy": "2022-09-09T17:52:59.29613Z",
          "iopub.execute_input": "2022-09-09T17:52:59.296971Z",
          "iopub.status.idle": "2022-09-09T17:53:06.89117Z",
          "shell.execute_reply.started": "2022-09-09T17:52:59.296867Z",
          "shell.execute_reply": "2022-09-09T17:53:06.889403Z"
        },
        "trusted": true,
        "id": "JxM7aOm7fCMI"
      },
      "execution_count": null,
      "outputs": []
    },
    {
      "cell_type": "markdown",
      "source": [
        "loading the train, test and sample submission datasets"
      ],
      "metadata": {
        "id": "LLwibIMRfCMJ"
      }
    },
    {
      "cell_type": "code",
      "source": [
        "train_df = pd.read_csv('../input/renew-power-hiring-hackathon/ReNew_Participants_Data/train.csv')\n",
        "train_df.sample(5)"
      ],
      "metadata": {
        "execution": {
          "iopub.status.busy": "2022-09-09T17:53:08.290253Z",
          "iopub.execute_input": "2022-09-09T17:53:08.290714Z",
          "iopub.status.idle": "2022-09-09T17:53:14.237881Z",
          "shell.execute_reply.started": "2022-09-09T17:53:08.290672Z",
          "shell.execute_reply": "2022-09-09T17:53:14.23657Z"
        },
        "trusted": true,
        "id": "Cpt9ts6rfCMJ"
      },
      "execution_count": null,
      "outputs": []
    },
    {
      "cell_type": "code",
      "source": [
        "test_df = pd.read_csv('../input/renew-power-hiring-hackathon/ReNew_Participants_Data/test.csv')\n",
        "test_df.sample(5)"
      ],
      "metadata": {
        "execution": {
          "iopub.status.busy": "2022-09-09T17:53:14.240353Z",
          "iopub.execute_input": "2022-09-09T17:53:14.24114Z",
          "iopub.status.idle": "2022-09-09T17:53:15.271908Z",
          "shell.execute_reply.started": "2022-09-09T17:53:14.241092Z",
          "shell.execute_reply": "2022-09-09T17:53:15.270665Z"
        },
        "trusted": true,
        "id": "m1-9gd6dfCMJ"
      },
      "execution_count": null,
      "outputs": []
    },
    {
      "cell_type": "code",
      "source": [
        "submission_df = pd.read_csv('../input/renew-power-hiring-hackathon/ReNew_Participants_Data/submission.csv')\n",
        "submission_df.sample(5)"
      ],
      "metadata": {
        "execution": {
          "iopub.status.busy": "2022-09-09T17:19:43.679527Z",
          "iopub.execute_input": "2022-09-09T17:19:43.679906Z",
          "iopub.status.idle": "2022-09-09T17:19:43.740074Z",
          "shell.execute_reply.started": "2022-09-09T17:19:43.679873Z",
          "shell.execute_reply": "2022-09-09T17:19:43.73892Z"
        },
        "trusted": true,
        "id": "bwYZIRPkfCMK"
      },
      "execution_count": null,
      "outputs": []
    },
    {
      "cell_type": "markdown",
      "source": [
        "## <p style='color:white;font-size:1%;'>Combine Train & Test Dataset</p>\n",
        "## <h2 style=\"background-color:#4E944F;font-family:verdana;color:white;font-size:200%;text-align:center;letter-spacing:0.5px;padding: 10px\"> COMBINE TRAIN & TEST DATA </h2>\n",
        "\n",
        "<div class=\"alert alert-info\" style=\"font-size:14px; font-family:verdana; line-height: 1.7em;\">\n",
        "    📌 &nbsp;Combining both the datasets, so I won't have to perform all the preprocessing/transformation steps separately on train and test data sets.\n",
        "</div>\n"
      ],
      "metadata": {
        "id": "hC7BgBXjfCMK"
      }
    },
    {
      "cell_type": "code",
      "source": [
        "target = train_df['Target'] # store Target column from train set to new varible\n",
        "\n",
        "# dropping redudant columns from train data, so the number of columns is same for both data sets\n",
        "train_df1 = train_df.drop(['timestamp','Target'], axis=1)\n",
        "\n",
        "df = pd.concat([train_df1, test_df]).reset_index(drop=True) # combining both data sets"
      ],
      "metadata": {
        "execution": {
          "iopub.status.busy": "2022-09-09T17:53:15.273135Z",
          "iopub.execute_input": "2022-09-09T17:53:15.273462Z",
          "iopub.status.idle": "2022-09-09T17:53:15.432179Z",
          "shell.execute_reply.started": "2022-09-09T17:53:15.273433Z",
          "shell.execute_reply": "2022-09-09T17:53:15.430942Z"
        },
        "trusted": true,
        "id": "h_fb4811fCMK"
      },
      "execution_count": null,
      "outputs": []
    },
    {
      "cell_type": "markdown",
      "source": [
        "Since it's a huge amount of data, the computation will take lot of time and might reach the max ram and cpu usage capacity. That's why it's better to compress the data size by allocating appropriate memory alocation to data."
      ],
      "metadata": {
        "id": "X8Je7i9zfCML"
      }
    },
    {
      "cell_type": "code",
      "source": [
        "def reduce_mem_usage(data):\n",
        "    start_mem = data.memory_usage().sum() / 1024**2\n",
        "    print('Memory usage of dataframe is {:.2f} MB'.format(start_mem))\n",
        "\n",
        "    for col in data.columns:\n",
        "        col_type = data[col].dtype\n",
        "\n",
        "        if col_type != object:\n",
        "            c_min = data[col].min()\n",
        "            c_max = data[col].max()\n",
        "            if str(col_type)[:3] == 'int':\n",
        "                if c_min > np.iinfo(np.int8).min and c_max < np.iinfo(np.int8).max:\n",
        "                    data[col] = data[col].astype(np.int8)\n",
        "                elif c_min > np.iinfo(np.int16).min and c_max < np.iinfo(np.int16).max:\n",
        "                    data[col] = data[col].astype(np.int16)\n",
        "                elif c_min > np.iinfo(np.int32).min and c_max < np.iinfo(np.int32).max:\n",
        "                    data[col] = data[col].astype(np.int32)\n",
        "                elif c_min > np.iinfo(np.int64).min and c_max < np.iinfo(np.int64).max:\n",
        "                    data[col] = data[col].astype(np.int64)\n",
        "            else:\n",
        "                if c_min > np.finfo(np.float16).min and c_max < np.finfo(np.float16).max:\n",
        "                    data[col] = data[col].astype(np.float16)\n",
        "                elif c_min > np.finfo(np.float32).min and c_max < np.finfo(np.float32).max:\n",
        "                    data[col] = data[col].astype(np.float32)\n",
        "                else:\n",
        "                    data[col] = data[col].astype(np.float64)\n",
        "        else:\n",
        "            data[col] = data[col].astype('category')\n",
        "    end_mem = data.memory_usage().sum() / 1024**2\n",
        "    print('Memory usage after optimization is: {:.2f} MB'.format(end_mem))\n",
        "    print('Decreased by {:.1f}%'.format(100 * (start_mem - end_mem) / start_mem))\n",
        "\n",
        "    return None\n",
        "\n",
        "\n"
      ],
      "metadata": {
        "execution": {
          "iopub.status.busy": "2022-09-09T17:53:15.43623Z",
          "iopub.execute_input": "2022-09-09T17:53:15.436693Z",
          "iopub.status.idle": "2022-09-09T17:53:15.451722Z",
          "shell.execute_reply.started": "2022-09-09T17:53:15.436655Z",
          "shell.execute_reply": "2022-09-09T17:53:15.45003Z"
        },
        "trusted": true,
        "id": "IATICQ21fCML"
      },
      "execution_count": null,
      "outputs": []
    },
    {
      "cell_type": "code",
      "source": [
        "reduce_mem_usage(df)"
      ],
      "metadata": {
        "execution": {
          "iopub.status.busy": "2022-09-09T17:53:15.453729Z",
          "iopub.execute_input": "2022-09-09T17:53:15.45423Z",
          "iopub.status.idle": "2022-09-09T17:53:16.047202Z",
          "shell.execute_reply.started": "2022-09-09T17:53:15.454193Z",
          "shell.execute_reply": "2022-09-09T17:53:16.045779Z"
        },
        "trusted": true,
        "id": "qmpI-KE-fCML"
      },
      "execution_count": null,
      "outputs": []
    },
    {
      "cell_type": "markdown",
      "source": [
        "As you can see the above function helped a lot! it reduced the data size by 75%, thats a lot!! </br>       \n",
        "Now let's try to understand the data..."
      ],
      "metadata": {
        "id": "Vmf82mYgfCMM"
      }
    },
    {
      "cell_type": "code",
      "source": [
        "# what data looks like\n",
        "df.head()"
      ],
      "metadata": {
        "execution": {
          "iopub.status.busy": "2022-09-09T17:53:16.048914Z",
          "iopub.execute_input": "2022-09-09T17:53:16.049625Z",
          "iopub.status.idle": "2022-09-09T17:53:16.073134Z",
          "shell.execute_reply.started": "2022-09-09T17:53:16.049587Z",
          "shell.execute_reply": "2022-09-09T17:53:16.07187Z"
        },
        "trusted": true,
        "id": "gcdBo4oqfCMM"
      },
      "execution_count": null,
      "outputs": []
    },
    {
      "cell_type": "code",
      "source": [
        "# whats the size of the data\n",
        "df.shape"
      ],
      "metadata": {
        "execution": {
          "iopub.status.busy": "2022-09-09T17:53:16.074773Z",
          "iopub.execute_input": "2022-09-09T17:53:16.075119Z",
          "iopub.status.idle": "2022-09-09T17:53:16.086125Z",
          "shell.execute_reply.started": "2022-09-09T17:53:16.075088Z",
          "shell.execute_reply": "2022-09-09T17:53:16.084606Z"
        },
        "trusted": true,
        "id": "yhuF-Rv_fCMM"
      },
      "execution_count": null,
      "outputs": []
    },
    {
      "cell_type": "code",
      "source": [
        "# what kinda datatypes data has\n",
        "df.info()"
      ],
      "metadata": {
        "execution": {
          "iopub.status.busy": "2022-09-09T15:00:46.35367Z",
          "iopub.execute_input": "2022-09-09T15:00:46.354165Z",
          "iopub.status.idle": "2022-09-09T15:00:46.464513Z",
          "shell.execute_reply.started": "2022-09-09T15:00:46.354121Z",
          "shell.execute_reply": "2022-09-09T15:00:46.463269Z"
        },
        "trusted": true,
        "id": "qRq4PafxfCMM"
      },
      "execution_count": null,
      "outputs": []
    },
    {
      "cell_type": "code",
      "source": [
        "# number of unique categories\n",
        "df['turbine_id'].value_counts()"
      ],
      "metadata": {
        "execution": {
          "iopub.status.busy": "2022-09-09T15:00:46.758969Z",
          "iopub.execute_input": "2022-09-09T15:00:46.759406Z",
          "iopub.status.idle": "2022-09-09T15:00:46.778076Z",
          "shell.execute_reply.started": "2022-09-09T15:00:46.759371Z",
          "shell.execute_reply": "2022-09-09T15:00:46.776665Z"
        },
        "trusted": true,
        "id": "a66hqeoufCMQ"
      },
      "execution_count": null,
      "outputs": []
    },
    {
      "cell_type": "code",
      "source": [
        "# number of null values in data\n",
        "df.isnull().sum()"
      ],
      "metadata": {
        "execution": {
          "iopub.status.busy": "2022-09-09T15:00:47.163188Z",
          "iopub.execute_input": "2022-09-09T15:00:47.16363Z",
          "iopub.status.idle": "2022-09-09T15:00:47.256548Z",
          "shell.execute_reply.started": "2022-09-09T15:00:47.163594Z",
          "shell.execute_reply": "2022-09-09T15:00:47.25522Z"
        },
        "trusted": true,
        "id": "hRzCpTwyfCMQ"
      },
      "execution_count": null,
      "outputs": []
    },
    {
      "cell_type": "code",
      "source": [
        "# basic stats of data\n",
        "df.describe()"
      ],
      "metadata": {
        "execution": {
          "iopub.status.busy": "2022-09-09T15:00:47.685062Z",
          "iopub.execute_input": "2022-09-09T15:00:47.685529Z",
          "iopub.status.idle": "2022-09-09T15:00:50.20325Z",
          "shell.execute_reply.started": "2022-09-09T15:00:47.685489Z",
          "shell.execute_reply": "2022-09-09T15:00:50.201865Z"
        },
        "trusted": true,
        "id": "nnI6ysDjfCMR"
      },
      "execution_count": null,
      "outputs": []
    },
    {
      "cell_type": "markdown",
      "source": [
        "<div style=\"color:white;\n",
        "           display:fill;\n",
        "           background-color:#4E944F;\n",
        "           padding: 10px;\n",
        "           font-family:Verdana;\n",
        "           letter-spacing:0.5px\">\n",
        "    <h3 style=\"color:white;padding-left:20px\"><b>Observations 👀</b></h3>\n",
        "       <p style=\"color:white;font-size:110%;padding-left:50px\">\n",
        "           1. Data contains 1212806 rows and 14 columns <br>\n",
        "           2. It has one string/object column, remaining all columns have float dtype <br>\n",
        "           3. There are no null values within data <br>\n",
        "        </p>\n",
        "    </div>"
      ],
      "metadata": {
        "id": "ulMWPTIxfCMR"
      }
    },
    {
      "cell_type": "markdown",
      "source": [
        "## <p style='color:white;font-size:1%;'>EDA</p>\n",
        "<h2 style=\"background-color:#4E944F;font-family:verdana;color:white;font-size:200%;text-align:center;letter-spacing:0.5px;padding: 10px\"> EDA </h2>"
      ],
      "metadata": {
        "id": "5gyG2JCrfCMR"
      }
    },
    {
      "cell_type": "markdown",
      "source": [
        "Performing eda on train data, cause it has target column in it."
      ],
      "metadata": {
        "id": "tlmPkh1afCMR"
      }
    },
    {
      "cell_type": "code",
      "source": [
        "corr = train_df.corr()\n",
        "plt.figure(figsize=(20, 8))\n",
        "sns.heatmap(corr, cmap=\"YlGnBu\", annot=True)\n",
        "plt.show()"
      ],
      "metadata": {
        "execution": {
          "iopub.status.busy": "2022-09-09T13:59:28.571287Z",
          "iopub.execute_input": "2022-09-09T13:59:28.571775Z",
          "iopub.status.idle": "2022-09-09T13:59:30.34877Z",
          "shell.execute_reply.started": "2022-09-09T13:59:28.571735Z",
          "shell.execute_reply": "2022-09-09T13:59:30.347913Z"
        },
        "trusted": true,
        "id": "vCvWN3ekfCMS"
      },
      "execution_count": null,
      "outputs": []
    },
    {
      "cell_type": "code",
      "source": [
        "_, ax1 = plt.subplots(7,2, figsize=(25,40))\n",
        "for i, col in enumerate(train_df.columns[train_df.dtypes==float]):\n",
        "    sns.distplot(train_df[col], ax=ax1[i//2, i%2], color=palette[1])\n",
        "\n",
        "plt.show()"
      ],
      "metadata": {
        "execution": {
          "iopub.status.busy": "2022-09-09T14:02:48.492367Z",
          "iopub.execute_input": "2022-09-09T14:02:48.492819Z",
          "iopub.status.idle": "2022-09-09T14:03:43.652917Z",
          "shell.execute_reply.started": "2022-09-09T14:02:48.492781Z",
          "shell.execute_reply": "2022-09-09T14:03:43.651693Z"
        },
        "trusted": true,
        "id": "wANSyRqwfCMS"
      },
      "execution_count": null,
      "outputs": []
    },
    {
      "cell_type": "code",
      "source": [
        "_, ax1 = plt.subplots(7,2, figsize=(25,40))\n",
        "for i, col in enumerate(train_df.columns[train_df.dtypes==float]):\n",
        "    sns.boxplot(train_df[col], ax=ax1[i//2, i%2], color=palette[1])\n",
        "\n",
        "plt.show()"
      ],
      "metadata": {
        "execution": {
          "iopub.status.busy": "2022-09-09T14:05:00.779183Z",
          "iopub.execute_input": "2022-09-09T14:05:00.779594Z",
          "iopub.status.idle": "2022-09-09T14:05:05.101763Z",
          "shell.execute_reply.started": "2022-09-09T14:05:00.779561Z",
          "shell.execute_reply": "2022-09-09T14:05:05.100448Z"
        },
        "trusted": true,
        "id": "WVb5eMR4fCMS"
      },
      "execution_count": null,
      "outputs": []
    },
    {
      "cell_type": "markdown",
      "source": [
        "<div style=\"color:white;\n",
        "           display:fill;\n",
        "           background-color:#4E944F;\n",
        "           padding: 10px;\n",
        "           font-family:Verdana;\n",
        "           letter-spacing:0.5px\">\n",
        "    <h3 style=\"color:white;padding-left:20px\"><b>Observations 👀</b></h3>\n",
        "       <p style=\"color:white;font-size:110%;padding-left:50px\">\n",
        "           Since I will be using tree based models, I won't <br>\n",
        "                1.scale the data<br>\n",
        "                2.transform the features<br>\n",
        "                3.handle the outliers<br>\n",
        "           Tree based models are not affected by the outliers, scale and distribution of the data <br>\n",
        "        </p>\n",
        "    </div>\n",
        "    "
      ],
      "metadata": {
        "id": "VkUcpp9yfCMS"
      }
    },
    {
      "cell_type": "markdown",
      "source": [
        "## <p style='color:white;font-size:1%;'>Preprocessing</p>\n",
        "<h2 style=\"background-color:#4E944F;font-family:verdana;color:white;font-size:200%;text-align:center;letter-spacing:0.5px;padding: 10px\"> PREPROCESSING </h2>"
      ],
      "metadata": {
        "id": "ZmAjLIGGfCMS"
      }
    },
    {
      "cell_type": "markdown",
      "source": [
        "Encoding categorical feature"
      ],
      "metadata": {
        "id": "F5YAV4ntfCMT"
      }
    },
    {
      "cell_type": "code",
      "source": [
        "df = pd.get_dummies(df, drop_first=True)\n",
        "df.head()"
      ],
      "metadata": {
        "execution": {
          "iopub.status.busy": "2022-09-09T17:53:24.372986Z",
          "iopub.execute_input": "2022-09-09T17:53:24.374064Z",
          "iopub.status.idle": "2022-09-09T17:53:24.578337Z",
          "shell.execute_reply.started": "2022-09-09T17:53:24.374022Z",
          "shell.execute_reply": "2022-09-09T17:53:24.57706Z"
        },
        "trusted": true,
        "id": "ATuDc4qpfCMT"
      },
      "execution_count": null,
      "outputs": []
    },
    {
      "cell_type": "markdown",
      "source": [
        "Create some new features"
      ],
      "metadata": {
        "id": "7mSYunuPfCMT"
      }
    },
    {
      "cell_type": "code",
      "source": [
        "df['difference_power_raw_conv'] = df['active_power_raw'] - df['active_power_calculated_by_converter']\n",
        "\n",
        "df['difference_temp_nc'] = df['nacelle_temp'] - df['nc1_inside_temp']\n",
        "\n",
        "df['difference_rc_power_raw_conv'] = df['reactice_power_calculated_by_converter'] - df['reactive_power']\n",
        "\n",
        "df['nc_ratio'] = df['nacelle_temp']/df['nc1_inside_temp']\n",
        "\n",
        "df['wind_direction_binned'] = df.wind_direction_raw//45 + 1"
      ],
      "metadata": {
        "execution": {
          "iopub.status.busy": "2022-09-09T17:53:25.160635Z",
          "iopub.execute_input": "2022-09-09T17:53:25.161047Z",
          "iopub.status.idle": "2022-09-09T17:53:25.328709Z",
          "shell.execute_reply.started": "2022-09-09T17:53:25.161015Z",
          "shell.execute_reply": "2022-09-09T17:53:25.32771Z"
        },
        "trusted": true,
        "id": "coID7Q00fCMT"
      },
      "execution_count": null,
      "outputs": []
    },
    {
      "cell_type": "markdown",
      "source": [
        "## <p style='color:white;font-size:1%;'>Split Data</p>\n",
        "<h2 style=\"background-color:#4E944F;font-family:verdana;color:white;font-size:200%;text-align:center;letter-spacing:0.5px;padding: 10px\"> SPLIT THE DATA </h2>"
      ],
      "metadata": {
        "id": "V61dlBXbfCMT"
      }
    },
    {
      "cell_type": "code",
      "source": [
        "train_final = df.loc[:train_df.index.max(), :]\n",
        "test_final = df.loc[train_df.index.max() + 1:, :].reset_index(drop=True)"
      ],
      "metadata": {
        "execution": {
          "iopub.status.busy": "2022-09-09T17:53:33.714093Z",
          "iopub.execute_input": "2022-09-09T17:53:33.714519Z",
          "iopub.status.idle": "2022-09-09T17:53:33.729018Z",
          "shell.execute_reply.started": "2022-09-09T17:53:33.714469Z",
          "shell.execute_reply": "2022-09-09T17:53:33.727597Z"
        },
        "trusted": true,
        "id": "YIMN9k-9fCMU"
      },
      "execution_count": null,
      "outputs": []
    },
    {
      "cell_type": "code",
      "source": [
        "train_final.shape"
      ],
      "metadata": {
        "execution": {
          "iopub.status.busy": "2022-09-09T17:53:34.143519Z",
          "iopub.execute_input": "2022-09-09T17:53:34.144412Z",
          "iopub.status.idle": "2022-09-09T17:53:34.151272Z",
          "shell.execute_reply.started": "2022-09-09T17:53:34.144368Z",
          "shell.execute_reply": "2022-09-09T17:53:34.150444Z"
        },
        "trusted": true,
        "id": "-jaUZfEAfCMU"
      },
      "execution_count": null,
      "outputs": []
    },
    {
      "cell_type": "code",
      "source": [
        "test_final.shape"
      ],
      "metadata": {
        "execution": {
          "iopub.status.busy": "2022-09-09T15:11:20.746913Z",
          "iopub.execute_input": "2022-09-09T15:11:20.747994Z",
          "iopub.status.idle": "2022-09-09T15:11:20.756254Z",
          "shell.execute_reply.started": "2022-09-09T15:11:20.747943Z",
          "shell.execute_reply": "2022-09-09T15:11:20.754758Z"
        },
        "trusted": true,
        "id": "lsxfllyxfCMU"
      },
      "execution_count": null,
      "outputs": []
    },
    {
      "cell_type": "markdown",
      "source": [
        "## <p style='color:white;font-size:1%;'>Model Selection</p>\n",
        "<h2 style=\"background-color:#4E944F;font-family:verdana;color:white;font-size:200%;text-align:center;letter-spacing:0.5px;padding: 10px\"> MODEL SELECTION </h2>"
      ],
      "metadata": {
        "id": "ZTEc2BZCfCMZ"
      }
    },
    {
      "cell_type": "markdown",
      "source": [
        "Only passing 1 lakh rows to make process faster"
      ],
      "metadata": {
        "id": "7lcneRyhfCMZ"
      }
    },
    {
      "cell_type": "code",
      "source": [
        "_ = setup(data=pd.concat([train_final.iloc[:100000], target.iloc[:100000]], axis=1), target='Target', fold=5) #passing limited data, so computation won't take much time"
      ],
      "metadata": {
        "execution": {
          "iopub.status.busy": "2022-09-09T15:11:31.739751Z",
          "iopub.execute_input": "2022-09-09T15:11:31.740338Z",
          "iopub.status.idle": "2022-09-09T15:11:35.829088Z",
          "shell.execute_reply.started": "2022-09-09T15:11:31.740281Z",
          "shell.execute_reply": "2022-09-09T15:11:35.827354Z"
        },
        "trusted": true,
        "id": "PBi-ZORefCMZ"
      },
      "execution_count": null,
      "outputs": []
    },
    {
      "cell_type": "code",
      "source": [
        "%%time\n",
        "compare_models(sort='MAPE')"
      ],
      "metadata": {
        "execution": {
          "iopub.status.busy": "2022-09-09T15:11:51.024911Z",
          "iopub.execute_input": "2022-09-09T15:11:51.025366Z",
          "iopub.status.idle": "2022-09-09T15:22:38.800966Z",
          "shell.execute_reply.started": "2022-09-09T15:11:51.025333Z",
          "shell.execute_reply": "2022-09-09T15:22:38.79981Z"
        },
        "trusted": true,
        "id": "2djrt25CfCMZ"
      },
      "execution_count": null,
      "outputs": []
    },
    {
      "cell_type": "markdown",
      "source": [
        "**Top 5 Best Performing Models**\n",
        "* Extra Trees Regressor\n",
        "* Random Forest Regressor\n",
        "* CatBoost Regressor\n",
        "* xgboost\n",
        "* Light Gradient Boosting Machine"
      ],
      "metadata": {
        "id": "2antogJyfCMa"
      }
    },
    {
      "cell_type": "markdown",
      "source": [
        "## <p style='color:white;font-size:1%;'>Baseline Models</p>\n",
        "<h2 style=\"background-color:#4E944F;font-family:verdana;color:white;font-size:200%;text-align:center;letter-spacing:0.5px;padding: 10px\"> BASELINE MODELS </h2>"
      ],
      "metadata": {
        "id": "FbkES8KrfCMa"
      }
    },
    {
      "cell_type": "markdown",
      "source": [
        "<div class=\"alert alert-info\" style=\"font-size:14px; font-family:verdana; line-height: 1.7em;\">\n",
        "    📌 &nbsp;Many procedure, evaluations, and models were taking too much time and space resulting in crashing the notebook, since we lots of data. So i have not run many codeblocks, but you can run them to for better result if you high confuguration machine.\n",
        "</div>"
      ],
      "metadata": {
        "id": "bEDtoLZXfCMa"
      }
    },
    {
      "cell_type": "markdown",
      "source": [
        "**ExtraTreesRegressor**"
      ],
      "metadata": {
        "id": "9imAaCTFfCMa"
      }
    },
    {
      "cell_type": "code",
      "source": [
        "%%time\n",
        "extr_model = ExtraTreesRegressor(random_state=0, n_jobs=-1)\n",
        "extr_model.fit(train_final, target)"
      ],
      "metadata": {
        "execution": {
          "iopub.status.busy": "2022-09-09T15:23:26.148549Z",
          "iopub.execute_input": "2022-09-09T15:23:26.149097Z",
          "iopub.status.idle": "2022-09-09T15:30:28.812459Z",
          "shell.execute_reply.started": "2022-09-09T15:23:26.149056Z",
          "shell.execute_reply": "2022-09-09T15:30:28.810832Z"
        },
        "trusted": true,
        "id": "yjd9alv2fCMa"
      },
      "execution_count": null,
      "outputs": []
    },
    {
      "cell_type": "code",
      "source": [
        "-(cross_val_score(extr_model, train_final, target, n_jobs=-1, cv=5,scoring='neg_mean_absolute_percentage_error').mean())"
      ],
      "metadata": {
        "execution": {
          "iopub.status.busy": "2022-09-09T15:32:14.122649Z",
          "iopub.execute_input": "2022-09-09T15:32:14.123129Z"
        },
        "trusted": true,
        "id": "oPKURhvqfCMb"
      },
      "execution_count": null,
      "outputs": []
    },
    {
      "cell_type": "code",
      "source": [
        "extr_prediction = extr_model.predict(test_final)\n",
        "extr_submission = pd.Series(extr_prediction, name='Target')\n",
        "extr_submission.to_csv('./extr_submission.csv', index=False, header=True) # saving the file"
      ],
      "metadata": {
        "execution": {
          "iopub.status.busy": "2022-09-09T15:30:43.831047Z",
          "iopub.execute_input": "2022-09-09T15:30:43.832326Z",
          "iopub.status.idle": "2022-09-09T15:30:56.080409Z",
          "shell.execute_reply.started": "2022-09-09T15:30:43.832267Z",
          "shell.execute_reply": "2022-09-09T15:30:56.07898Z"
        },
        "trusted": true,
        "id": "ML0whtnzfCMb"
      },
      "execution_count": null,
      "outputs": []
    },
    {
      "cell_type": "markdown",
      "source": [
        "**RandomForestRegressor**"
      ],
      "metadata": {
        "id": "q_vCZUWZfCMb"
      }
    },
    {
      "cell_type": "code",
      "source": [
        "%%time\n",
        "rf_model = RandomForestRegressor(random_state=0, n_jobs=-1)\n",
        "rf_model.fit(train_final, target)"
      ],
      "metadata": {
        "execution": {
          "iopub.status.busy": "2022-09-07T17:00:02.149488Z",
          "iopub.execute_input": "2022-09-07T17:00:02.149939Z",
          "iopub.status.idle": "2022-09-07T17:09:48.698882Z",
          "shell.execute_reply.started": "2022-09-07T17:00:02.1499Z",
          "shell.execute_reply": "2022-09-07T17:09:48.697872Z"
        },
        "trusted": true,
        "id": "Oivvh5hmfCMb"
      },
      "execution_count": null,
      "outputs": []
    },
    {
      "cell_type": "code",
      "source": [
        "-(cross_val_score(rf, train_final, target, n_jobs=-1, cv=5,scoring='neg_mean_absolute_percentage_error').mean())"
      ],
      "metadata": {
        "id": "T9yLUgVFfCMb"
      },
      "execution_count": null,
      "outputs": []
    },
    {
      "cell_type": "code",
      "source": [
        "rf_prediction = rf_model.predict(test_final)\n",
        "rf_submission = pd.Series(rf_prediction, name='Target')\n",
        "rf_submission.to_csv('./rf_submission.csv', index=False, header=True)"
      ],
      "metadata": {
        "execution": {
          "iopub.status.busy": "2022-09-07T07:28:37.601051Z",
          "iopub.execute_input": "2022-09-07T07:28:37.602757Z",
          "iopub.status.idle": "2022-09-07T07:29:15.590702Z",
          "shell.execute_reply.started": "2022-09-07T07:28:37.602692Z",
          "shell.execute_reply": "2022-09-07T07:29:15.588947Z"
        },
        "trusted": true,
        "id": "xVqd53abfCMe"
      },
      "execution_count": null,
      "outputs": []
    },
    {
      "cell_type": "markdown",
      "source": [
        "**CatBoostRegressor**"
      ],
      "metadata": {
        "id": "LuGYO5aAfCMf"
      }
    },
    {
      "cell_type": "code",
      "source": [
        "%%time\n",
        "catboost_model = CatBoostRegressor(verbose=0, random_state=0)\n",
        "catboost_model.fit(train_final, target)"
      ],
      "metadata": {
        "execution": {
          "iopub.status.busy": "2022-09-09T15:34:39.958344Z",
          "iopub.execute_input": "2022-09-09T15:34:39.959682Z",
          "iopub.status.idle": "2022-09-09T15:36:28.75932Z",
          "shell.execute_reply.started": "2022-09-09T15:34:39.959629Z",
          "shell.execute_reply": "2022-09-09T15:36:28.757991Z"
        },
        "trusted": true,
        "id": "t4gHhyN_fCMf"
      },
      "execution_count": null,
      "outputs": []
    },
    {
      "cell_type": "code",
      "source": [
        "-(cross_val_score(catboost_model, train_final, target, n_jobs=-1, cv=5,scoring='neg_mean_absolute_percentage_error').mean())"
      ],
      "metadata": {
        "id": "WEAlifxffCMf"
      },
      "execution_count": null,
      "outputs": []
    },
    {
      "cell_type": "code",
      "source": [
        "catboost_prediction = catboost_model.predict(test_final)\n",
        "catboost_submission = pd.Series(catboost_prediction, name='Target')\n",
        "catboost_submission.to_csv('./catboost_submission.csv', index=False, header=True)"
      ],
      "metadata": {
        "execution": {
          "iopub.status.busy": "2022-09-09T15:37:05.946373Z",
          "iopub.execute_input": "2022-09-09T15:37:05.947085Z",
          "iopub.status.idle": "2022-09-09T15:37:08.614099Z",
          "shell.execute_reply.started": "2022-09-09T15:37:05.947035Z",
          "shell.execute_reply": "2022-09-09T15:37:08.61276Z"
        },
        "trusted": true,
        "id": "Kq6teFjofCMg"
      },
      "execution_count": null,
      "outputs": []
    },
    {
      "cell_type": "markdown",
      "source": [
        "**XGBRegressor**"
      ],
      "metadata": {
        "id": "Z8xmm9effCMg"
      }
    },
    {
      "cell_type": "code",
      "source": [
        "%%time\n",
        "xgboost_model = XGBRegressor(n_jobs=-1, random_state=0)\n",
        "xgboost_model.fit(train_final, target)"
      ],
      "metadata": {
        "execution": {
          "iopub.status.busy": "2022-09-09T17:20:10.116663Z",
          "iopub.execute_input": "2022-09-09T17:20:10.117592Z",
          "iopub.status.idle": "2022-09-09T17:21:57.789887Z",
          "shell.execute_reply.started": "2022-09-09T17:20:10.117552Z",
          "shell.execute_reply": "2022-09-09T17:21:57.788593Z"
        },
        "trusted": true,
        "id": "Nn9IOZSPfCMg"
      },
      "execution_count": null,
      "outputs": []
    },
    {
      "cell_type": "code",
      "source": [
        "-(cross_val_score(xgboost_model, train_final, target, n_jobs=-1, cv=5,scoring='neg_mean_absolute_percentage_error').mean())"
      ],
      "metadata": {
        "id": "CbgRrJHefCMg"
      },
      "execution_count": null,
      "outputs": []
    },
    {
      "cell_type": "code",
      "source": [
        "xgboost_prediction = xgboost_model.predict(test_final)\n",
        "xgboost_submission = pd.Series(xgboost_prediction, name='Target')\n",
        "xgboost_submission.to_csv('./xgboost_submission.csv', index=False, header=True)"
      ],
      "metadata": {
        "execution": {
          "iopub.status.busy": "2022-09-09T17:22:04.32852Z",
          "iopub.execute_input": "2022-09-09T17:22:04.328932Z",
          "iopub.status.idle": "2022-09-09T17:22:05.231026Z",
          "shell.execute_reply.started": "2022-09-09T17:22:04.328898Z",
          "shell.execute_reply": "2022-09-09T17:22:05.229459Z"
        },
        "trusted": true,
        "id": "8HkVKk-pfCMg"
      },
      "execution_count": null,
      "outputs": []
    },
    {
      "cell_type": "markdown",
      "source": [
        "**LGBMRegressor**"
      ],
      "metadata": {
        "id": "U_GGRqR8fCMh"
      }
    },
    {
      "cell_type": "code",
      "source": [
        "%%time\n",
        "lgbm_model = LGBMRegressor(n_jobs=-1, random_state=0)\n",
        "lgbm_model.fit(train_final, target)"
      ],
      "metadata": {
        "execution": {
          "iopub.status.busy": "2022-09-09T17:16:00.401487Z",
          "iopub.execute_input": "2022-09-09T17:16:00.402064Z",
          "iopub.status.idle": "2022-09-09T17:16:08.861667Z",
          "shell.execute_reply.started": "2022-09-09T17:16:00.402025Z",
          "shell.execute_reply": "2022-09-09T17:16:08.860639Z"
        },
        "trusted": true,
        "id": "Dp-YhhfZfCMh"
      },
      "execution_count": null,
      "outputs": []
    },
    {
      "cell_type": "code",
      "source": [
        "lgbm_prediction = lgbm_model.predict(test_final)\n",
        "lgbm_submission = pd.Series(lgbm_prediction, name='Target')\n",
        "lgbm_submission.to_csv('./lgbm_submission.csv', index=False, header=True)"
      ],
      "metadata": {
        "execution": {
          "iopub.status.busy": "2022-09-09T17:16:56.94287Z",
          "iopub.execute_input": "2022-09-09T17:16:56.9434Z",
          "iopub.status.idle": "2022-09-09T17:16:58.481017Z",
          "shell.execute_reply.started": "2022-09-09T17:16:56.943364Z",
          "shell.execute_reply": "2022-09-09T17:16:58.479523Z"
        },
        "trusted": true,
        "id": "7g0b12xofCMh"
      },
      "execution_count": null,
      "outputs": []
    },
    {
      "cell_type": "markdown",
      "source": [
        "## <p style='color:white;font-size:1%;'>Hyperparameter Tuning</p>\n",
        "<h2 style=\"background-color:#4E944F;font-family:verdana;color:white;font-size:200%;text-align:center;letter-spacing:0.5px;padding: 10px\"> HYPERPARAMETER TUNING </h2>"
      ],
      "metadata": {
        "id": "xyRQ98zKfCMi"
      }
    },
    {
      "cell_type": "markdown",
      "source": [
        "**ExtraTreesRegressor Parameter Tuning**  \n",
        "You can do same for other models, however it will require lot of memory so i haven't done it."
      ],
      "metadata": {
        "id": "93dTAvCnfCMi"
      }
    },
    {
      "cell_type": "code",
      "source": [
        "def objective(trial):\n",
        "        n_estimators = trial.suggest_categorical('n_estimators',[100, 300, 500])\n",
        "        max_samples = trial.suggest_categorical('max_samples', [0.50,0.70,0.90])\n",
        "        optuna_extr = sklearn.ensemble.ExtraTreesRegressor(\n",
        "                                        n_estimators=n_estimators,\n",
        "                                        random_state=42,\n",
        "                                        max_samples=max_samples,\n",
        "                                        bootstrap=True,\n",
        "                                        oob_score=True,\n",
        "                                        n_jobs=-1,\n",
        "                                        verbose=1\n",
        "\n",
        "        )\n",
        "        return sklearn.model_selection.cross_val_score(optuna_extr, train_final, target, n_jobs=-1, cv=5,scoring='neg_mean_absolute_percentage_error').mean()"
      ],
      "metadata": {
        "execution": {
          "iopub.status.busy": "2022-09-09T05:20:03.036999Z",
          "iopub.execute_input": "2022-09-09T05:20:03.037427Z",
          "iopub.status.idle": "2022-09-09T05:20:03.045117Z",
          "shell.execute_reply.started": "2022-09-09T05:20:03.03739Z",
          "shell.execute_reply": "2022-09-09T05:20:03.044Z"
        },
        "trusted": true,
        "id": "u95vmdZsfCMi"
      },
      "execution_count": null,
      "outputs": []
    },
    {
      "cell_type": "code",
      "source": [
        "study = optuna.create_study(direction='maximize')\n",
        "study.optimize(objective, n_trials=50)\n",
        "\n",
        "trial = study.best_trial\n",
        "\n",
        "print('Accuracy: {}'.format(trial.value))\n",
        "print(\"Best hyperparameters: {}\".format(trial.params))"
      ],
      "metadata": {
        "trusted": true,
        "id": "-ltgzVBLfCMj"
      },
      "execution_count": null,
      "outputs": []
    },
    {
      "cell_type": "markdown",
      "source": [
        "## <p style='color:white;font-size:1%;'>Stacking</p>\n",
        "<h2 style=\"background-color:#4E944F;font-family:verdana;color:white;font-size:200%;text-align:center;letter-spacing:0.5px;padding: 10px\"> STACKING </h2>"
      ],
      "metadata": {
        "id": "_JecyFqDfCMj"
      }
    },
    {
      "cell_type": "code",
      "source": [
        "estimators = [\n",
        "        ('xgboost', XGBRegressor(n_jobs=-1, random_state=0)),\n",
        "        ('lgbm', LGBMRegressor(n_jobs=-1, random_state=0)),\n",
        "        ('catboost', CatBoostRegressor(verbose=0, random_state=0))\n",
        "]\n",
        "\n",
        "stacking = StackingRegressor(\n",
        "                             estimators=estimators,\n",
        "                             final_estimator=SGDRegressor(random_state=0))\n",
        "\n",
        "stacking.fit(train_final, target)"
      ],
      "metadata": {
        "execution": {
          "iopub.status.busy": "2022-09-09T17:53:47.41188Z",
          "iopub.execute_input": "2022-09-09T17:53:47.412334Z",
          "iopub.status.idle": "2022-09-09T18:13:24.728158Z",
          "shell.execute_reply.started": "2022-09-09T17:53:47.4123Z",
          "shell.execute_reply": "2022-09-09T18:13:24.726707Z"
        },
        "trusted": true,
        "id": "8DCfI7wYfCMj"
      },
      "execution_count": null,
      "outputs": []
    },
    {
      "cell_type": "code",
      "source": [
        "stacking_prediction = stacking.predict(test_final)\n",
        "stacking_submission = pd.Series(stacking_prediction, name='Target')\n",
        "stacking_submission.to_csv('./stacking_submission.csv', index=False, header=True)"
      ],
      "metadata": {
        "execution": {
          "iopub.status.busy": "2022-09-09T18:16:25.183817Z",
          "iopub.execute_input": "2022-09-09T18:16:25.184387Z",
          "iopub.status.idle": "2022-09-09T18:16:28.959767Z",
          "shell.execute_reply.started": "2022-09-09T18:16:25.184345Z",
          "shell.execute_reply": "2022-09-09T18:16:28.958599Z"
        },
        "trusted": true,
        "id": "2p2inoY6fCMk"
      },
      "execution_count": null,
      "outputs": []
    },
    {
      "cell_type": "markdown",
      "source": [
        "Combining the trained models predictions"
      ],
      "metadata": {
        "id": "HuOcg_kHfCMk"
      }
    },
    {
      "cell_type": "code",
      "source": [
        "extr = pd.read_csv('../input/my-trained-models-outputs/new_extr_submission.csv')\n",
        "catboost = pd.read_csv('../input/my-trained-models-outputs/catboost_submission.csv')\n",
        "lgbm = pd.read_csv('../input/my-trained-models-outputs/lgbm_submission.csv')\n",
        "xgboost = pd.read_csv('../input/my-trained-models-outputs/xgboost_submission.csv')"
      ],
      "metadata": {
        "execution": {
          "iopub.status.busy": "2022-09-09T18:18:59.293255Z",
          "iopub.execute_input": "2022-09-09T18:18:59.29378Z",
          "iopub.status.idle": "2022-09-09T18:18:59.716067Z",
          "shell.execute_reply.started": "2022-09-09T18:18:59.293741Z",
          "shell.execute_reply": "2022-09-09T18:18:59.714801Z"
        },
        "trusted": true,
        "id": "-XYNGtQYfCMk"
      },
      "execution_count": null,
      "outputs": []
    },
    {
      "cell_type": "code",
      "source": [
        "combination_submission = 0.4*extr + 0.2*catboost + 0.2*lgbm + 0.2*xgboost"
      ],
      "metadata": {
        "execution": {
          "iopub.status.busy": "2022-09-09T18:19:00.962591Z",
          "iopub.execute_input": "2022-09-09T18:19:00.96514Z",
          "iopub.status.idle": "2022-09-09T18:19:00.977404Z",
          "shell.execute_reply.started": "2022-09-09T18:19:00.965085Z",
          "shell.execute_reply": "2022-09-09T18:19:00.975828Z"
        },
        "trusted": true,
        "id": "NIJvbg3bfCMk"
      },
      "execution_count": null,
      "outputs": []
    },
    {
      "cell_type": "code",
      "source": [
        "combination_submission.to_csv('./combination_submission.csv', index=False, header=True)"
      ],
      "metadata": {
        "execution": {
          "iopub.status.busy": "2022-09-09T18:19:02.230958Z",
          "iopub.execute_input": "2022-09-09T18:19:02.231412Z",
          "iopub.status.idle": "2022-09-09T18:19:02.827046Z",
          "shell.execute_reply.started": "2022-09-09T18:19:02.231375Z",
          "shell.execute_reply": "2022-09-09T18:19:02.82579Z"
        },
        "trusted": true,
        "id": "aS35rEyKfCMk"
      },
      "execution_count": null,
      "outputs": []
    },
    {
      "cell_type": "markdown",
      "source": [
        "## <p style='color:white;font-size:1%;'>Auto ML</p>\n",
        "<h2 style=\"background-color:#4E944F;font-family:verdana;color:white;font-size:200%;text-align:center;letter-spacing:0.5px;padding: 10px\"> AUTO ML </h2>"
      ],
      "metadata": {
        "id": "-Ko6pzyxfCMl"
      }
    },
    {
      "cell_type": "code",
      "source": [
        "lgbm_auto_ml = AutoML()"
      ],
      "metadata": {
        "execution": {
          "iopub.status.busy": "2022-09-09T15:39:13.07005Z",
          "iopub.execute_input": "2022-09-09T15:39:13.070645Z",
          "iopub.status.idle": "2022-09-09T15:39:13.077413Z",
          "shell.execute_reply.started": "2022-09-09T15:39:13.070601Z",
          "shell.execute_reply": "2022-09-09T15:39:13.076037Z"
        },
        "trusted": true,
        "id": "_WiWaaa5fCMl"
      },
      "execution_count": null,
      "outputs": []
    },
    {
      "cell_type": "code",
      "source": [
        "%%time\n",
        "lgbm_auto_ml.fit(train_final, target, task=\"regression\", metric='mape', estimator_list = ['lgbm'],\n",
        "          n_splits=5, early_stop=True, n_jobs=-1, time_budget=4500, sample=True, seed=0, ensemble= {\n",
        "        \"final_estimator\": SGDRegressor(random_state=0),\n",
        "        \"passthrough\": False})"
      ],
      "metadata": {
        "execution": {
          "iopub.status.busy": "2022-09-09T15:43:58.859924Z",
          "iopub.execute_input": "2022-09-09T15:43:58.860371Z"
        },
        "trusted": true,
        "id": "86OLcij5fCMl"
      },
      "execution_count": null,
      "outputs": []
    },
    {
      "cell_type": "code",
      "source": [
        "lgbm_auto_ml_prediction = lgbm_auto_ml.predict(test_final)\n",
        "lgbm_auto_ml_submission = pd.Series(lgbm_auto_ml_prediction, name='Target')\n",
        "lgbm_auto_ml_submission.to_csv('./lgbm_tuned_submission.csv', index=False, header=True) # saving the file"
      ],
      "metadata": {
        "trusted": true,
        "id": "gQJsCD8gfCMl"
      },
      "execution_count": null,
      "outputs": []
    },
    {
      "cell_type": "markdown",
      "source": [
        "<h2 style=\"background-color:#4E944F;font-family:verdana;color:white;font-size:200%;text-align:center;letter-spacing:0.5px;padding: 10px\"> If You Liked The NoteBook, Please Upvote✌  </h2>"
      ],
      "metadata": {
        "id": "jeiqE0wZfCMm"
      }
    }
  ]
}